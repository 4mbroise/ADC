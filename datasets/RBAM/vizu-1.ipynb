{
 "cells": [
  {
   "cell_type": "code",
   "execution_count": 57,
   "metadata": {},
   "outputs": [],
   "source": [
    "import pandas as pd"
   ]
  },
  {
   "cell_type": "code",
   "execution_count": 58,
   "metadata": {},
   "outputs": [
    {
     "data": {
      "text/html": [
       "<div>\n",
       "<style scoped>\n",
       "    .dataframe tbody tr th:only-of-type {\n",
       "        vertical-align: middle;\n",
       "    }\n",
       "\n",
       "    .dataframe tbody tr th {\n",
       "        vertical-align: top;\n",
       "    }\n",
       "\n",
       "    .dataframe thead th {\n",
       "        text-align: right;\n",
       "    }\n",
       "</style>\n",
       "<table border=\"1\" class=\"dataframe\">\n",
       "  <thead>\n",
       "    <tr style=\"text-align: right;\">\n",
       "      <th></th>\n",
       "      <th>topic</th>\n",
       "      <th>relation</th>\n",
       "      <th>argSrc</th>\n",
       "      <th>argTrg</th>\n",
       "      <th>datasetSource</th>\n",
       "    </tr>\n",
       "  </thead>\n",
       "  <tbody>\n",
       "    <tr>\n",
       "      <th>0</th>\n",
       "      <td>cuba</td>\n",
       "      <td>neither</td>\n",
       "      <td>But what I do suggest is that at least we have...</td>\n",
       "      <td>Too often in these discussions of foreign affa...</td>\n",
       "      <td>political-argumentation</td>\n",
       "    </tr>\n",
       "    <tr>\n",
       "      <th>1</th>\n",
       "      <td>cuba</td>\n",
       "      <td>neither</td>\n",
       "      <td>What I have advocated is that we use all avail...</td>\n",
       "      <td>They can say we ca n't object to the Soviet Un...</td>\n",
       "      <td>political-argumentation</td>\n",
       "    </tr>\n",
       "    <tr>\n",
       "      <th>2</th>\n",
       "      <td>cuba</td>\n",
       "      <td>support</td>\n",
       "      <td>We could have tried to inject ourselves into t...</td>\n",
       "      <td>I do n't take the views that the only alternat...</td>\n",
       "      <td>political-argumentation</td>\n",
       "    </tr>\n",
       "    <tr>\n",
       "      <th>3</th>\n",
       "      <td>cuba</td>\n",
       "      <td>support</td>\n",
       "      <td>And the young men and women , those who are st...</td>\n",
       "      <td>Oh , the problems are great . In Cuba , in the...</td>\n",
       "      <td>political-argumentation</td>\n",
       "    </tr>\n",
       "    <tr>\n",
       "      <th>4</th>\n",
       "      <td>cuba</td>\n",
       "      <td>attack</td>\n",
       "      <td>I say in that connection that with all the cri...</td>\n",
       "      <td>Major policy on issues such as Cuban security ...</td>\n",
       "      <td>political-argumentation</td>\n",
       "    </tr>\n",
       "    <tr>\n",
       "      <th>...</th>\n",
       "      <td>...</td>\n",
       "      <td>...</td>\n",
       "      <td>...</td>\n",
       "      <td>...</td>\n",
       "      <td>...</td>\n",
       "    </tr>\n",
       "    <tr>\n",
       "      <th>2459</th>\n",
       "      <td>unknown</td>\n",
       "      <td>neither</td>\n",
       "      <td>but that people with the same income suddenly ...</td>\n",
       "      <td>Gentrification destroys entire districts and t...</td>\n",
       "      <td>arg-microtexts</td>\n",
       "    </tr>\n",
       "    <tr>\n",
       "      <th>2460</th>\n",
       "      <td>unknown</td>\n",
       "      <td>support</td>\n",
       "      <td>Gentrification destroys entire districts and t...</td>\n",
       "      <td>Rent prices should be limited by a cap when th...</td>\n",
       "      <td>arg-microtexts</td>\n",
       "    </tr>\n",
       "    <tr>\n",
       "      <th>2461</th>\n",
       "      <td>unknown</td>\n",
       "      <td>neither</td>\n",
       "      <td>Gentrification destroys entire districts and t...</td>\n",
       "      <td>Landlords may want to earn as much as possible,</td>\n",
       "      <td>arg-microtexts</td>\n",
       "    </tr>\n",
       "    <tr>\n",
       "      <th>2462</th>\n",
       "      <td>unknown</td>\n",
       "      <td>neither</td>\n",
       "      <td>Gentrification destroys entire districts and t...</td>\n",
       "      <td>and many, consistent with market principles, a...</td>\n",
       "      <td>arg-microtexts</td>\n",
       "    </tr>\n",
       "    <tr>\n",
       "      <th>2463</th>\n",
       "      <td>unknown</td>\n",
       "      <td>neither</td>\n",
       "      <td>Gentrification destroys entire districts and t...</td>\n",
       "      <td>but that people with the same income suddenly ...</td>\n",
       "      <td>arg-microtexts</td>\n",
       "    </tr>\n",
       "  </tbody>\n",
       "</table>\n",
       "<p>60823 rows × 5 columns</p>\n",
       "</div>"
      ],
      "text/plain": [
       "        topic relation                                             argSrc  \\\n",
       "0        cuba  neither  But what I do suggest is that at least we have...   \n",
       "1        cuba  neither  What I have advocated is that we use all avail...   \n",
       "2        cuba  support  We could have tried to inject ourselves into t...   \n",
       "3        cuba  support  And the young men and women , those who are st...   \n",
       "4        cuba   attack  I say in that connection that with all the cri...   \n",
       "...       ...      ...                                                ...   \n",
       "2459  unknown  neither  but that people with the same income suddenly ...   \n",
       "2460  unknown  support  Gentrification destroys entire districts and t...   \n",
       "2461  unknown  neither  Gentrification destroys entire districts and t...   \n",
       "2462  unknown  neither  Gentrification destroys entire districts and t...   \n",
       "2463  unknown  neither  Gentrification destroys entire districts and t...   \n",
       "\n",
       "                                                 argTrg  \\\n",
       "0     Too often in these discussions of foreign affa...   \n",
       "1     They can say we ca n't object to the Soviet Un...   \n",
       "2     I do n't take the views that the only alternat...   \n",
       "3     Oh , the problems are great . In Cuba , in the...   \n",
       "4     Major policy on issues such as Cuban security ...   \n",
       "...                                                 ...   \n",
       "2459  Gentrification destroys entire districts and t...   \n",
       "2460  Rent prices should be limited by a cap when th...   \n",
       "2461    Landlords may want to earn as much as possible,   \n",
       "2462  and many, consistent with market principles, a...   \n",
       "2463  but that people with the same income suddenly ...   \n",
       "\n",
       "                datasetSource  \n",
       "0     political-argumentation  \n",
       "1     political-argumentation  \n",
       "2     political-argumentation  \n",
       "3     political-argumentation  \n",
       "4     political-argumentation  \n",
       "...                       ...  \n",
       "2459           arg-microtexts  \n",
       "2460           arg-microtexts  \n",
       "2461           arg-microtexts  \n",
       "2462           arg-microtexts  \n",
       "2463           arg-microtexts  \n",
       "\n",
       "[60823 rows x 5 columns]"
      ]
     },
     "execution_count": 58,
     "metadata": {},
     "output_type": "execute_result"
    }
   ],
   "source": [
    "mergedDf = pd.read_csv(\"./RBAM-dataset-1.csv\", index_col=0)\n",
    "mergedDf"
   ]
  },
  {
   "cell_type": "markdown",
   "metadata": {},
   "source": [
    "# By relation"
   ]
  },
  {
   "cell_type": "code",
   "execution_count": 59,
   "metadata": {},
   "outputs": [
    {
     "data": {
      "text/html": [
       "<div>\n",
       "<style scoped>\n",
       "    .dataframe tbody tr th:only-of-type {\n",
       "        vertical-align: middle;\n",
       "    }\n",
       "\n",
       "    .dataframe tbody tr th {\n",
       "        vertical-align: top;\n",
       "    }\n",
       "\n",
       "    .dataframe thead th {\n",
       "        text-align: right;\n",
       "    }\n",
       "</style>\n",
       "<table border=\"1\" class=\"dataframe\">\n",
       "  <thead>\n",
       "    <tr style=\"text-align: right;\">\n",
       "      <th></th>\n",
       "      <th>count</th>\n",
       "    </tr>\n",
       "    <tr>\n",
       "      <th>relation</th>\n",
       "      <th></th>\n",
       "    </tr>\n",
       "  </thead>\n",
       "  <tbody>\n",
       "    <tr>\n",
       "      <th>attack</th>\n",
       "      <td>1241</td>\n",
       "    </tr>\n",
       "    <tr>\n",
       "      <th>neither</th>\n",
       "      <td>56370</td>\n",
       "    </tr>\n",
       "    <tr>\n",
       "      <th>support</th>\n",
       "      <td>3212</td>\n",
       "    </tr>\n",
       "  </tbody>\n",
       "</table>\n",
       "</div>"
      ],
      "text/plain": [
       "          count\n",
       "relation       \n",
       "attack     1241\n",
       "neither   56370\n",
       "support    3212"
      ]
     },
     "execution_count": 59,
     "metadata": {},
     "output_type": "execute_result"
    }
   ],
   "source": [
    "count = mergedDf.groupby('relation').count()\n",
    "count[\"count\"] = count[\"argSrc\"]\n",
    "count = count.drop(columns=[\"argSrc\", \"argTrg\", \"topic\", \"datasetSource\"])\n",
    "\n",
    "count"
   ]
  },
  {
   "cell_type": "code",
   "execution_count": 60,
   "metadata": {},
   "outputs": [
    {
     "data": {
      "text/html": [
       "<div>\n",
       "<style scoped>\n",
       "    .dataframe tbody tr th:only-of-type {\n",
       "        vertical-align: middle;\n",
       "    }\n",
       "\n",
       "    .dataframe tbody tr th {\n",
       "        vertical-align: top;\n",
       "    }\n",
       "\n",
       "    .dataframe thead th {\n",
       "        text-align: right;\n",
       "    }\n",
       "</style>\n",
       "<table border=\"1\" class=\"dataframe\">\n",
       "  <thead>\n",
       "    <tr style=\"text-align: right;\">\n",
       "      <th>relation</th>\n",
       "      <th>attack</th>\n",
       "      <th>neither</th>\n",
       "      <th>support</th>\n",
       "    </tr>\n",
       "  </thead>\n",
       "  <tbody>\n",
       "    <tr>\n",
       "      <th>count</th>\n",
       "      <td>1241</td>\n",
       "      <td>56370</td>\n",
       "      <td>3212</td>\n",
       "    </tr>\n",
       "  </tbody>\n",
       "</table>\n",
       "</div>"
      ],
      "text/plain": [
       "relation  attack  neither  support\n",
       "count       1241    56370     3212"
      ]
     },
     "execution_count": 60,
     "metadata": {},
     "output_type": "execute_result"
    }
   ],
   "source": [
    "count.T"
   ]
  },
  {
   "cell_type": "code",
   "execution_count": 61,
   "metadata": {},
   "outputs": [
    {
     "data": {
      "text/plain": [
       "<Axes: >"
      ]
     },
     "execution_count": 61,
     "metadata": {},
     "output_type": "execute_result"
    },
    {
     "data": {
      "image/png": "[encoded data removed]",
      "text/plain": [
       "<Figure size 640x480 with 1 Axes>"
      ]
     },
     "metadata": {},
     "output_type": "display_data"
    }
   ],
   "source": [
    "count.T.plot(kind='bar', color=['tomato','lightblue','greenyellow'])"
   ]
  },
  {
   "cell_type": "code",
   "execution_count": 62,
   "metadata": {},
   "outputs": [
    {
     "data": {
      "text/plain": [
       "<Axes: >"
      ]
     },
     "execution_count": 62,
     "metadata": {},
     "output_type": "execute_result"
    },
    {
     "data": {
      "image/png": "[encoded data removed]",
      "text/plain": [
       "<Figure size 640x480 with 1 Axes>"
      ]
     },
     "metadata": {},
     "output_type": "display_data"
    }
   ],
   "source": [
    "count.T.plot(kind='bar', color=['tomato','lightblue','greenyellow'], stacked=True)"
   ]
  },
  {
   "cell_type": "markdown",
   "metadata": {},
   "source": [
    "## By source"
   ]
  },
  {
   "cell_type": "code",
   "execution_count": 63,
   "metadata": {},
   "outputs": [
    {
     "data": {
      "text/html": [
       "<div>\n",
       "<style scoped>\n",
       "    .dataframe tbody tr th:only-of-type {\n",
       "        vertical-align: middle;\n",
       "    }\n",
       "\n",
       "    .dataframe tbody tr th {\n",
       "        vertical-align: top;\n",
       "    }\n",
       "\n",
       "    .dataframe thead th {\n",
       "        text-align: right;\n",
       "    }\n",
       "</style>\n",
       "<table border=\"1\" class=\"dataframe\">\n",
       "  <thead>\n",
       "    <tr style=\"text-align: right;\">\n",
       "      <th></th>\n",
       "      <th>count</th>\n",
       "    </tr>\n",
       "    <tr>\n",
       "      <th>datasetSource</th>\n",
       "      <th></th>\n",
       "    </tr>\n",
       "  </thead>\n",
       "  <tbody>\n",
       "    <tr>\n",
       "      <th>arg-microtexts</th>\n",
       "      <td>2464</td>\n",
       "    </tr>\n",
       "    <tr>\n",
       "      <th>argGpt</th>\n",
       "      <td>56452</td>\n",
       "    </tr>\n",
       "    <tr>\n",
       "      <th>political-argumentation</th>\n",
       "      <td>1907</td>\n",
       "    </tr>\n",
       "  </tbody>\n",
       "</table>\n",
       "</div>"
      ],
      "text/plain": [
       "                         count\n",
       "datasetSource                 \n",
       "arg-microtexts            2464\n",
       "argGpt                   56452\n",
       "political-argumentation   1907"
      ]
     },
     "execution_count": 63,
     "metadata": {},
     "output_type": "execute_result"
    }
   ],
   "source": [
    "mergedDf = pd.read_csv(\"./RBAM-dataset-1.csv\", index_col=0)\n",
    "count = mergedDf.groupby('datasetSource').count()\n",
    "count[\"count\"] = count[\"argSrc\"]\n",
    "count = count.drop(columns=[\"topic\", \"relation\", \"argSrc\", \"argTrg\"])\n",
    "count"
   ]
  },
  {
   "cell_type": "code",
   "execution_count": 64,
   "metadata": {},
   "outputs": [
    {
     "data": {
      "text/plain": [
       "<Axes: >"
      ]
     },
     "execution_count": 64,
     "metadata": {},
     "output_type": "execute_result"
    },
    {
     "data": {
      "image/png": "[encoded data removed]",
      "text/plain": [
       "<Figure size 640x480 with 1 Axes>"
      ]
     },
     "metadata": {},
     "output_type": "display_data"
    }
   ],
   "source": [
    "count.T.plot(kind='bar', color=['tomato','lightblue','greenyellow'])"
   ]
  },
  {
   "cell_type": "code",
   "execution_count": 65,
   "metadata": {},
   "outputs": [
    {
     "data": {
      "text/plain": [
       "<Axes: >"
      ]
     },
     "execution_count": 65,
     "metadata": {},
     "output_type": "execute_result"
    },
    {
     "data": {
      "image/png": "[encoded data removed]",
      "text/plain": [
       "<Figure size 640x480 with 1 Axes>"
      ]
     },
     "metadata": {},
     "output_type": "display_data"
    }
   ],
   "source": [
    "count.T.plot(kind='bar', color=['tomato','lightblue','greenyellow'], stacked=True)"
   ]
  },
  {
   "cell_type": "code",
   "execution_count": 105,
   "metadata": {},
   "outputs": [
    {
     "data": {
      "text/html": [
       "<div>\n",
       "<style scoped>\n",
       "    .dataframe tbody tr th:only-of-type {\n",
       "        vertical-align: middle;\n",
       "    }\n",
       "\n",
       "    .dataframe tbody tr th {\n",
       "        vertical-align: top;\n",
       "    }\n",
       "\n",
       "    .dataframe thead th {\n",
       "        text-align: right;\n",
       "    }\n",
       "</style>\n",
       "<table border=\"1\" class=\"dataframe\">\n",
       "  <thead>\n",
       "    <tr style=\"text-align: right;\">\n",
       "      <th></th>\n",
       "      <th></th>\n",
       "      <th>count</th>\n",
       "    </tr>\n",
       "    <tr>\n",
       "      <th>datasetSource</th>\n",
       "      <th>relation</th>\n",
       "      <th></th>\n",
       "    </tr>\n",
       "  </thead>\n",
       "  <tbody>\n",
       "    <tr>\n",
       "      <th rowspan=\"3\" valign=\"top\">arg-microtexts</th>\n",
       "      <th>attack</th>\n",
       "      <td>174</td>\n",
       "    </tr>\n",
       "    <tr>\n",
       "      <th>neither</th>\n",
       "      <td>2000</td>\n",
       "    </tr>\n",
       "    <tr>\n",
       "      <th>support</th>\n",
       "      <td>290</td>\n",
       "    </tr>\n",
       "    <tr>\n",
       "      <th rowspan=\"3\" valign=\"top\">argGpt</th>\n",
       "      <th>attack</th>\n",
       "      <td>689</td>\n",
       "    </tr>\n",
       "    <tr>\n",
       "      <th>neither</th>\n",
       "      <td>53197</td>\n",
       "    </tr>\n",
       "    <tr>\n",
       "      <th>support</th>\n",
       "      <td>2566</td>\n",
       "    </tr>\n",
       "    <tr>\n",
       "      <th rowspan=\"3\" valign=\"top\">political-argumentation</th>\n",
       "      <th>attack</th>\n",
       "      <td>378</td>\n",
       "    </tr>\n",
       "    <tr>\n",
       "      <th>neither</th>\n",
       "      <td>1173</td>\n",
       "    </tr>\n",
       "    <tr>\n",
       "      <th>support</th>\n",
       "      <td>356</td>\n",
       "    </tr>\n",
       "  </tbody>\n",
       "</table>\n",
       "</div>"
      ],
      "text/plain": [
       "                                  count\n",
       "datasetSource           relation       \n",
       "arg-microtexts          attack      174\n",
       "                        neither    2000\n",
       "                        support     290\n",
       "argGpt                  attack      689\n",
       "                        neither   53197\n",
       "                        support    2566\n",
       "political-argumentation attack      378\n",
       "                        neither    1173\n",
       "                        support     356"
      ]
     },
     "execution_count": 105,
     "metadata": {},
     "output_type": "execute_result"
    }
   ],
   "source": [
    "mergedDf = pd.read_csv(\"./RBAM-dataset-1.csv\", index_col=0)\n",
    "count = mergedDf.groupby([\"datasetSource\", \"relation\"]).count()\n",
    "count = mergedDf.groupby([\"datasetSource\", \"relation\"]).count()\n",
    "count = count.rename(columns={\"topic\": \"count\"})\n",
    "count = count.drop(columns=[\"argSrc\", \"argTrg\"])\n",
    "count"
   ]
  },
  {
   "cell_type": "code",
   "execution_count": 104,
   "metadata": {},
   "outputs": [
    {
     "data": {
      "text/plain": [
       "<Axes: xlabel='datasetSource,relation'>"
      ]
     },
     "execution_count": 104,
     "metadata": {},
     "output_type": "execute_result"
    },
    {
     "data": {
      "image/png": "[encoded data removed]",
      "text/plain": [
       "<Figure size 640x480 with 1 Axes>"
      ]
     },
     "metadata": {},
     "output_type": "display_data"
    }
   ],
   "source": [
    "count.plot(kind='bar', color=['tomato','lightblue','greenyellow'])"
   ]
  },
  {
   "cell_type": "code",
   "execution_count": 108,
   "metadata": {},
   "outputs": [
    {
     "data": {
      "text/html": [
       "<div>\n",
       "<style scoped>\n",
       "    .dataframe tbody tr th:only-of-type {\n",
       "        vertical-align: middle;\n",
       "    }\n",
       "\n",
       "    .dataframe tbody tr th {\n",
       "        vertical-align: top;\n",
       "    }\n",
       "\n",
       "    .dataframe thead th {\n",
       "        text-align: right;\n",
       "    }\n",
       "</style>\n",
       "<table border=\"1\" class=\"dataframe\">\n",
       "  <thead>\n",
       "    <tr style=\"text-align: right;\">\n",
       "      <th></th>\n",
       "      <th>relation</th>\n",
       "      <th>argSrc</th>\n",
       "      <th>argTrg</th>\n",
       "      <th>datasetSource</th>\n",
       "    </tr>\n",
       "    <tr>\n",
       "      <th>topic</th>\n",
       "      <th></th>\n",
       "      <th></th>\n",
       "      <th></th>\n",
       "      <th></th>\n",
       "    </tr>\n",
       "  </thead>\n",
       "  <tbody>\n",
       "    <tr>\n",
       "      <th>cuba</th>\n",
       "      <td>380</td>\n",
       "      <td>380</td>\n",
       "      <td>380</td>\n",
       "      <td>380</td>\n",
       "    </tr>\n",
       "    <tr>\n",
       "      <th>disarmament</th>\n",
       "      <td>376</td>\n",
       "      <td>376</td>\n",
       "      <td>376</td>\n",
       "      <td>376</td>\n",
       "    </tr>\n",
       "    <tr>\n",
       "      <th>medical care,health care</th>\n",
       "      <td>382</td>\n",
       "      <td>382</td>\n",
       "      <td>382</td>\n",
       "      <td>382</td>\n",
       "    </tr>\n",
       "    <tr>\n",
       "      <th>minimum wage</th>\n",
       "      <td>388</td>\n",
       "      <td>388</td>\n",
       "      <td>388</td>\n",
       "      <td>388</td>\n",
       "    </tr>\n",
       "    <tr>\n",
       "      <th>unemployment</th>\n",
       "      <td>381</td>\n",
       "      <td>381</td>\n",
       "      <td>381</td>\n",
       "      <td>381</td>\n",
       "    </tr>\n",
       "    <tr>\n",
       "      <th>unknown</th>\n",
       "      <td>58916</td>\n",
       "      <td>58916</td>\n",
       "      <td>58916</td>\n",
       "      <td>58916</td>\n",
       "    </tr>\n",
       "  </tbody>\n",
       "</table>\n",
       "</div>"
      ],
      "text/plain": [
       "                          relation  argSrc  argTrg  datasetSource\n",
       "topic                                                            \n",
       "cuba                           380     380     380            380\n",
       "disarmament                    376     376     376            376\n",
       "medical care,health care       382     382     382            382\n",
       "minimum wage                   388     388     388            388\n",
       "unemployment                   381     381     381            381\n",
       "unknown                      58916   58916   58916          58916"
      ]
     },
     "execution_count": 108,
     "metadata": {},
     "output_type": "execute_result"
    }
   ],
   "source": [
    "mergedDf = pd.read_csv(\"./RBAM-dataset-1.csv\", index_col=0)\n",
    "count = mergedDf.groupby([\"topic\"]).count()\n",
    "count"
   ]
  },
  {
   "cell_type": "code",
   "execution_count": null,
   "metadata": {},
   "outputs": [],
   "source": []
  }
 ],
 "metadata": {
  "kernelspec": {
   "display_name": "Python 3",
   "language": "python",
   "name": "python3"
  },
  "language_info": {
   "codemirror_mode": {
    "name": "ipython",
    "version": 3
   },
   "file_extension": ".py",
   "mimetype": "text/x-python",
   "name": "python",
   "nbconvert_exporter": "python",
   "pygments_lexer": "ipython3",
   "version": "3.10.12"
  }
 },
 "nbformat": 4,
 "nbformat_minor": 2
}
