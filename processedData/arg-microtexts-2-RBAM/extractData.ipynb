{
 "cells": [
  {
   "cell_type": "code",
   "execution_count": 1,
   "metadata": {},
   "outputs": [],
   "source": [
    "import xml.etree.ElementTree as ET\n",
    "\n",
    "inputPath   = '../../rawData/arg-microtexts/corpus/en/'\n",
    "outputPath  = './data/' \n"
   ]
  },
  {
   "cell_type": "code",
   "execution_count": 2,
   "metadata": {},
   "outputs": [],
   "source": [
    "def getEDU2Text(root):\n",
    "    edu2Text = {}\n",
    "\n",
    "    for x in root.findall(\"./edu\"):\n",
    "        edu2Text[x.attrib[\"id\"]] = x.text\n",
    "    return edu2Text\n",
    "\n",
    "def getADU2Text(root, edu2Text):\n",
    "    adu2Text = {}\n",
    "\n",
    "    for x in root.findall(\"./edge[@type='seg']\"):\n",
    "        adu2Text[x.attrib['trg']] = edu2Text[x.attrib['src']]\n",
    "    return adu2Text\n"
   ]
  },
  {
   "cell_type": "code",
   "execution_count": 3,
   "metadata": {},
   "outputs": [],
   "source": [
    "def parse(root, adu2Text):\n",
    "\n",
    "    ATTACK  = \"attack\"\n",
    "    SUPPORT = \"support\"\n",
    "\n",
    "    relation = {}\n",
    "    for x in root.findall(\"./edge[@type='add']\"):\n",
    "        rel = '???'\n",
    "        print(x.attrib)"
   ]
  },
  {
   "cell_type": "code",
   "execution_count": 4,
   "metadata": {},
   "outputs": [],
   "source": [
    "# def parseAddEdges(root, adu2Text):\n",
    "\n",
    "#     ATTACK  = \"attack\"\n",
    "#     SUPPORT = \"support\"\n",
    "\n",
    "#     relation = {}\n",
    "#     for x in root.findall(\"./edge[@type='add']\"):\n",
    "#         rel = '???'\n",
    "\n",
    "#         print(x.attrib)\n",
    "\n",
    "#         # if x.attrib[\"type\"] == 'reb':\n",
    "#         #     rel = \n",
    "        \n",
    "\n",
    "#         addTarget = root.find(\".edge[@id='\"+x.attrib['trg']+\"']\")\n",
    "\n",
    "#         x.set(\"trg\", addTarget.attrib[\"id\"])\n",
    "#         x.set(\"type\", addTarget.attrib[\"type\"])\n",
    "\n",
    "\n",
    "        \n",
    "#         print(\"target\", addTarget.attrib)\n",
    "\n",
    "#         relation[x.attrib['id']] = x.attrib"
   ]
  },
  {
   "cell_type": "code",
   "execution_count": 5,
   "metadata": {},
   "outputs": [],
   "source": [
    "def parseAddEdges(root, adu2Text):\n",
    "    relation = {}\n",
    "    for x in root.findall(\"./edge[@type='add']\"):\n",
    "        addTarget = root.find(\".edge[@id='\"+x.attrib['trg']+\"']\")\n",
    "        x.set(\"trg\", addTarget.attrib[\"trg\"])\n",
    "        x.set(\"type\", addTarget.attrib[\"type\"])\n",
    "        relation[x.attrib['id']] = x.attrib"
   ]
  },
  {
   "cell_type": "code",
   "execution_count": 6,
   "metadata": {},
   "outputs": [],
   "source": [
    "def parseUndercutEdges(root, adu2Text):\n",
    "    relation = {}\n",
    "    for x in root.findall(\"./edge[@type='und']\"):\n",
    "        undercutTarget = root.find(\".edge[@id='\"+x.attrib['trg']+\"']\")\n",
    "        x.set(\"trg\", undercutTarget.attrib[\"src\"])\n",
    "        x.set(\"type\", \"attack\")\n",
    "        relation[x.attrib['id']] = x.attrib"
   ]
  },
  {
   "cell_type": "code",
   "execution_count": 7,
   "metadata": {},
   "outputs": [],
   "source": [
    "def parseOtherEdges(root, adu2Text):\n",
    "    relation = {}\n",
    "    for x in root.findall(\"./edge\"):\n",
    "        if x.attrib[\"type\"] == \"reb\":\n",
    "          x.set(\"type\", \"attack\")\n",
    "        if x.attrib[\"type\"] == \"exa\":\n",
    "          x.set(\"type\", \"support\")\n",
    "        if x.attrib[\"type\"] == \"sup\":\n",
    "          x.set(\"type\", \"support\")\n",
    "        relation[x.attrib['id']] = x.attrib"
   ]
  },
  {
   "cell_type": "code",
   "execution_count": 8,
   "metadata": {},
   "outputs": [],
   "source": [
    "import os\n",
    "import networkx as nx\n",
    "import pandas as pd\n",
    "\n",
    "def parseXml2Csv(filePath, filename):\n",
    "  tree = ET.parse(filePath)\n",
    "  root = tree.getroot()\n",
    "\n",
    "  edu2Text = getEDU2Text(root)\n",
    "  adu2Text = getADU2Text(root, edu2Text)\n",
    "\n",
    "  # for x in root.findall(\"./edge\"):\n",
    "  #   print(x.attrib)\n",
    "\n",
    "  # print(\"---------------------------\")\n",
    "\n",
    "  parseAddEdges(root, adu2Text)\n",
    "  parseUndercutEdges(root, adu2Text)\n",
    "  parseOtherEdges(root, adu2Text)\n",
    "\n",
    "  # for x in root.findall(\"./edge\"):\n",
    "  #   print(x.attrib)\n",
    "\n",
    "  G = nx.complete_graph(list(adu2Text.keys()), nx.DiGraph())\n",
    "\n",
    "  for id in G.nodes:\n",
    "    G.nodes[id][\"text\"] = adu2Text[id]\n",
    "\n",
    "  for id in G.edges:\n",
    "    G.edges[id][\"relationType\"] = \"neither\"\n",
    "  \n",
    "  for u,v in G.edges:\n",
    "    argSrc = adu2Text[u]\n",
    "    argTrg = adu2Text[v]\n",
    "    G.edges[(u,v)][\"argSrc\"] = argSrc\n",
    "    G.edges[(u,v)][\"argTrg\"] = argTrg\n",
    "\n",
    "  for x in root.findall(\"./edge[@type='attack']\"):\n",
    "    src = x.attrib[\"src\"]\n",
    "    trg = x.attrib[\"trg\"]\n",
    "    id = (src, trg)\n",
    "    G.edges[id][\"relationType\"]  = \"attack\"\n",
    "\n",
    "\n",
    "  for x in root.findall(\"./edge[@type='support']\"):\n",
    "    src = x.attrib[\"src\"]\n",
    "    trg = x.attrib[\"trg\"]\n",
    "    id = (src, trg)\n",
    "    G.edges[id][\"relationType\"] = \"support\"\n",
    "\n",
    "  edges = []\n",
    "\n",
    "  for id in G.edges:\n",
    "    edges.append(G.edges[id])\n",
    "\n",
    "  df = pd.DataFrame(edges)\n",
    "  df.to_csv(outputPath+filename+\".csv\", index=False)\n",
    "\n"
   ]
  },
  {
   "cell_type": "code",
   "execution_count": 9,
   "metadata": {},
   "outputs": [],
   "source": [
    "for file in os.listdir(inputPath):\n",
    "  try:\n",
    "    if file.split(\".\")[-1] !=  \"xml\":\n",
    "      pass    \n",
    "\n",
    "    filename    = file.split(\".\")[0]\n",
    "\n",
    "    parseXml2Csv(inputPath+filename+\".xml\", filename)\n",
    "    \n",
    "  except:\n",
    "    print(\"Error :\", filename)"
   ]
  },
  {
   "cell_type": "code",
   "execution_count": 10,
   "metadata": {},
   "outputs": [],
   "source": [
    "\n",
    "# importing libraries \n",
    "import glob \n",
    "  \n",
    "# merging the files \n",
    "joined_files = os.path.join(outputPath, \"*.csv\") \n",
    "  \n",
    "# A list of all joined files is returned \n",
    "joined_list = glob.glob(joined_files) \n",
    "  \n",
    "# Finally, the files are joined \n",
    "df = pd.concat(map(pd.read_csv, joined_list), ignore_index=True) \n",
    "\n",
    "df.to_csv(outputPath+\"mergedCorpusRelations.csv\")"
   ]
  }
 ],
 "metadata": {
  "kernelspec": {
   "display_name": "Python 3",
   "language": "python",
   "name": "python3"
  },
  "language_info": {
   "codemirror_mode": {
    "name": "ipython",
    "version": 3
   },
   "file_extension": ".py",
   "mimetype": "text/x-python",
   "name": "python",
   "nbconvert_exporter": "python",
   "pygments_lexer": "ipython3",
   "version": "3.10.12"
  }
 },
 "nbformat": 4,
 "nbformat_minor": 2
}
